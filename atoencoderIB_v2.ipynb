{
 "cells": [
  {
   "cell_type": "code",
   "execution_count": 76,
   "metadata": {
    "collapsed": true
   },
   "outputs": [],
   "source": [
    "import tensorflow as tf\n",
    "import numpy as np\n",
    "import random as rn\n",
    "%matplotlib inline\n",
    "import matplotlib.pyplot as plt"
   ]
  },
  {
   "cell_type": "code",
   "execution_count": 77,
   "metadata": {
    "collapsed": true
   },
   "outputs": [],
   "source": [
    "M = 16 \n",
    "k = np.log2(M)\n",
    "k = int(k)\n",
    "n_channel = 7\n",
    "R = k/n_channel\n",
    "EbNodB = 5\n",
    "EbNo=10.0**(EbNodB/10.0)\n",
    "noise_std = np.sqrt(1/(2*R*EbNo))\n",
    "noise_mean = 0"
   ]
  },
  {
   "cell_type": "code",
   "execution_count": 78,
   "metadata": {},
   "outputs": [],
   "source": [
    "N = 5000\n",
    "label = np.random.randint(M,size=N)"
   ]
  },
  {
   "cell_type": "code",
   "execution_count": 79,
   "metadata": {
    "collapsed": true
   },
   "outputs": [],
   "source": [
    "data = []\n",
    "for i in label:\n",
    "    temp = np.zeros(M)\n",
    "    temp[i] = 1\n",
    "    data.append(temp)\n",
    "    \n",
    "data = np.array(data)"
   ]
  },
  {
   "cell_type": "code",
   "execution_count": 80,
   "metadata": {
    "collapsed": true
   },
   "outputs": [],
   "source": [
    "Nt = 1000\n",
    "test_label = np.random.randint(M,size=Nt)"
   ]
  },
  {
   "cell_type": "code",
   "execution_count": 81,
   "metadata": {
    "collapsed": true
   },
   "outputs": [],
   "source": [
    "test_data = []\n",
    "for i in test_label:\n",
    "    temp = np.zeros(M)\n",
    "    temp[i] = 1\n",
    "    test_data.append(temp)\n",
    "    \n",
    "test_data = np.array(test_data)"
   ]
  },
  {
   "cell_type": "code",
   "execution_count": 82,
   "metadata": {
    "collapsed": true
   },
   "outputs": [],
   "source": [
    "def gaussian_noise_layer(input_layer, std):\n",
    "    noise = tf.random_normal(shape=tf.shape(input_layer), mean=noise_mean, stddev=noise_std, dtype=tf.float32) \n",
    "    return input_layer + noise"
   ]
  },
  {
   "cell_type": "code",
   "execution_count": 83,
   "metadata": {
    "collapsed": true
   },
   "outputs": [],
   "source": [
    "num_inputs=M\n",
    "num_hid1=n_channel\n",
    "num_hid2=n_channel #corrupted num_hid1\n",
    "num_output=num_inputs\n",
    "lr=0.01\n",
    "actf=tf.nn.relu"
   ]
  },
  {
   "cell_type": "code",
   "execution_count": 84,
   "metadata": {
    "collapsed": true
   },
   "outputs": [],
   "source": [
    "S=tf.placeholder(tf.float32,shape=[None,num_inputs])\n",
    "\n",
    "initializer=tf.variance_scaling_initializer()\n",
    "\n",
    "w1=tf.Variable(initializer([num_inputs,num_hid1]),dtype=tf.float32)\n",
    "w2=tf.Variable(initializer([num_hid1,num_hid2]),dtype=tf.float32)\n",
    "w3=tf.Variable(initializer([num_hid1,num_inputs]),dtype=tf.float32)\n",
    "\n",
    "b1=tf.Variable(tf.zeros(num_hid1))\n",
    "b2=tf.Variable(tf.zeros(num_hid2))\n",
    "b3=tf.Variable(tf.zeros(num_output))\n",
    "\n",
    "hidden1=tf.nn.relu(tf.matmul(S,w1)+b1)\n",
    "\n",
    "channel = gaussian_noise_layer(hidden1, noise_std)\n",
    "\n",
    "hidden2=tf.nn.relu(tf.matmul(channel,w2)+b2)\n",
    "\n",
    "output_layer=tf.nn.softmax(tf.matmul(hidden2,w3)+b3)"
   ]
  },
  {
   "cell_type": "code",
   "execution_count": 85,
   "metadata": {
    "collapsed": true
   },
   "outputs": [],
   "source": [
    "loss=tf.reduce_mean(tf.square(output_layer-S))\n",
    "\n",
    "optimizer=tf.train.AdamOptimizer(lr)\n",
    "train=optimizer.minimize(loss)\n",
    "\n",
    "init=tf.global_variables_initializer()"
   ]
  },
  {
   "cell_type": "code",
   "execution_count": 86,
   "metadata": {
    "collapsed": true
   },
   "outputs": [],
   "source": [
    "from collections import Counter\n",
    "\n",
    "def calc_MI(hidden,Y):\n",
    "    n_neurons = hidden.shape[1]\n",
    "    \n",
    "    n_train_samples=Nt\n",
    "    n_bins = 30\n",
    "    bins = np.linspace(0, 10, n_bins+1)\n",
    "    indices = np.digitize(hidden, bins)\n",
    "   \n",
    "    pdf_x = Counter(); pdf_y = Counter(); pdf_t = Counter(); pdf_xt = Counter(); pdf_yt = Counter()\n",
    "\n",
    "    for i in range(n_train_samples):\n",
    "        pdf_x[test_label[i]] += 1/float(n_train_samples)\n",
    "        pdf_y[np.int(Y[i])] += 1/float(n_train_samples) \n",
    "        pdf_xt[(test_label[i],)+tuple(indices[i,:])] += 1/float(n_train_samples) \n",
    "        pdf_yt[(np.int(Y[i]),)+tuple(indices[i,:])] += 1/float(n_train_samples)\n",
    "        pdf_t[tuple(indices[i,:])] += 1/float(n_train_samples)\n",
    "    \n",
    "    # calcuate encoder mutual information I(X;T)\n",
    "    mi_xt = 0\n",
    "    for i in pdf_xt:\n",
    "        p_xt = pdf_xt[i]; p_x = pdf_x[i[0]]; p_t = pdf_t[i[1:]]\n",
    "        mi_xt += p_xt * np.log(p_xt / p_x / p_t)\n",
    " \n",
    "    # calculate decoder mutual information I(T;Y)\n",
    "    mi_ty = 0\n",
    "    for i in pdf_yt:\n",
    "        p_yt = pdf_yt[i]; p_t = pdf_t[i[1:]]; p_y = pdf_y[i[0]]\n",
    "        mi_ty += p_yt * np.log(p_yt / p_t / p_y)\n",
    "            \n",
    "    return mi_xt, mi_ty\n",
    "\n",
    "# get mutual information for hidden layers H1 and H2, each hidden layer is a separate random variable denoted by T1 and T2\n",
    "def get_MI(H1,H2,Y):\n",
    "    mi_xt_list = []; mi_ty_list = []\n",
    "    mi_xt, mi_ty = calc_MI(H1,Y)\n",
    "    mi_xt_list.append(mi_xt)\n",
    "    mi_ty_list.append(mi_ty)\n",
    "    mi_xt, mi_ty = calc_MI(H2,Y)\n",
    "    mi_xt_list.append(mi_xt)\n",
    "    mi_ty_list.append(mi_ty)\n",
    "    return mi_xt_list, mi_ty_list"
   ]
  },
  {
   "cell_type": "code",
   "execution_count": 87,
   "metadata": {},
   "outputs": [],
   "source": [
    "episodes = 1000\n",
    "\n",
    "# Launch the graph in a session\n",
    "with tf.Session() as sess:\n",
    "    tf.initialize_all_variables().run()\n",
    "    \n",
    "    for e in range(episodes):\n",
    "        for i in range(N):\n",
    "            input_ = data[i]\n",
    "            sess.run(train, feed_dict={S: [input_]})\n",
    "            \n",
    "    \n",
    "with tf.Session() as sess:\n",
    "    tf.initialize_all_variables().run()    \n",
    "    \n",
    "    mi_xt_all = []; mi_ty_all = []; epochs = []\n",
    "    for e in range(episodes):\n",
    "        H1=[]\n",
    "        H2=[]\n",
    "        Y=[]\n",
    "        for j in range(Nt):\n",
    "            input_ = test_data[j]\n",
    "            h1, h2, pred_final_signal = sess.run([hidden1, hidden2, output_layer],\n",
    "                                                  feed_dict={S: [input_]})\n",
    "            H1.append(h1)\n",
    "            H2.append(h2)\n",
    "            pred_output = np.argmax(pred_final_signal,axis=1)\n",
    "            Y.append(pred_output)\n",
    "        H1=np.array(H1)\n",
    "        H2=np.array(H2)\n",
    "        H1=H1.reshape(Nt,n_channel)\n",
    "        H2=H2.reshape(Nt,n_channel)\n",
    "        Y=np.array(Y)\n",
    "        Y=Y.reshape(Nt,1)\n",
    "        if e % 2 == 0:\n",
    "            mi_xt, mi_ty = get_MI(H1,H2,Y)\n",
    "            mi_xt_all.append(mi_xt)\n",
    "            mi_ty_all.append(mi_ty)\n",
    "            epochs.append(e)\n",
    "    \n",
    "    mi_xt_all=np.array(mi_xt_all)\n",
    "    mi_ty_all=np.array(mi_ty_all)\n",
    "    epochs=np.array(epochs)\n",
    "    \n"
   ]
  },
  {
   "cell_type": "code",
   "execution_count": 88,
   "metadata": {},
   "outputs": [
    {
     "name": "stderr",
     "output_type": "stream",
     "text": [
      "C:\\Users\\inik0002\\AppData\\Local\\Continuum\\anaconda3\\lib\\site-packages\\matplotlib\\cbook\\deprecation.py:106: MatplotlibDeprecationWarning: The set_color_cycle attribute was deprecated in version 1.5. Use set_prop_cycle instead.\n",
      "  warnings.warn(message, mplDeprecation, stacklevel=1)\n"
     ]
    },
    {
     "data": {
      "image/png": "[encoded data removed]",
      "text/plain": [
       "<matplotlib.figure.Figure at 0x13cda128>"
      ]
     },
     "metadata": {},
     "output_type": "display_data"
    }
   ],
   "source": [
    "fig, ax = plt.subplots(figsize=(8,8))\n",
    "ax.set_color_cycle(['coral', 'darkblue', 'magenta', 'teal'])\n",
    "ax.set_xlabel('epochs')\n",
    "ax.set_ylabel('Mutual information')\n",
    "ax.plot(epochs,mi_xt_all[:,0],label='I(X;T1)',alpha=0.2)\n",
    "ax.plot(epochs,mi_xt_all[:,1],label='I(X;T2)',alpha=0.2)\n",
    "ax.plot(epochs,mi_ty_all[:,0],label='I(T1;Y)',alpha=0.2)\n",
    "ax.plot(epochs,mi_ty_all[:,1],label='I(T2;Y)',alpha=0.2)\n",
    "ax.legend()\n",
    "title = ax.set_title('')\n",
    "plt.show(fig)"
   ]
  },
  {
   "cell_type": "code",
   "execution_count": null,
   "metadata": {
    "collapsed": true
   },
   "outputs": [],
   "source": []
  }
 ],
 "metadata": {
  "kernelspec": {
   "display_name": "Python 3",
   "language": "python",
   "name": "python3"
  },
  "language_info": {
   "codemirror_mode": {
    "name": "ipython",
    "version": 3
   },
   "file_extension": ".py",
   "mimetype": "text/x-python",
   "name": "python",
   "nbconvert_exporter": "python",
   "pygments_lexer": "ipython3",
   "version": "3.6.3"
  }
 },
 "nbformat": 4,
 "nbformat_minor": 2
}
